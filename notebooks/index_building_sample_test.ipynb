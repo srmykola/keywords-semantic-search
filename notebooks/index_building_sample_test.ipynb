{
 "cells": [
  {
   "cell_type": "code",
   "execution_count": 1,
   "id": "082103be",
   "metadata": {},
   "outputs": [
    {
     "name": "stderr",
     "output_type": "stream",
     "text": [
      "/home/mykola/dev/keywords-semantic-search/venv/lib/python3.9/site-packages/huggingface_hub/snapshot_download.py:6: FutureWarning: snapshot_download.py has been made private and will no longer be available from version 0.11. Please use `from huggingface_hub import snapshot_download` to import the only public function in this module. Other members of the file may be changed without a deprecation notice.\n",
      "  warnings.warn(\n",
      "/home/mykola/dev/keywords-semantic-search/venv/lib/python3.9/site-packages/huggingface_hub/file_download.py:560: FutureWarning: `cached_download` is the legacy way to download files from the HF hub, please consider upgrading to `hf_hub_download`\n",
      "  warnings.warn(\n"
     ]
    }
   ],
   "source": [
    "import json\n",
    "import gzip\n",
    "import os\n",
    "os.chdir(\"../\")\n",
    "from index import build_annoy_index_from_strings\n",
    "from index.annoy_index import annoy_index\n",
    "from index import get_text_nns"
   ]
  },
  {
   "cell_type": "code",
   "execution_count": 2,
   "id": "8618a345",
   "metadata": {},
   "outputs": [],
   "source": [
    "data_dir_json = \"./data/json/peru/sample\""
   ]
  },
  {
   "cell_type": "code",
   "execution_count": 3,
   "id": "da825efb",
   "metadata": {},
   "outputs": [],
   "source": [
    "files_json_paths = [os.path.join(data_dir_json, f) for f in os.listdir(data_dir_json) if f.endswith(\"gz\") or f.endswith(\"json\")]"
   ]
  },
  {
   "cell_type": "code",
   "execution_count": 4,
   "id": "b8b2ffc7",
   "metadata": {},
   "outputs": [
    {
     "data": {
      "text/plain": [
       "['./data/json/peru/sample/bq-results-20220625-080707-1656144463135.json']"
      ]
     },
     "execution_count": 4,
     "metadata": {},
     "output_type": "execute_result"
    }
   ],
   "source": [
    "files_json_paths"
   ]
  },
  {
   "cell_type": "code",
   "execution_count": 5,
   "id": "5a25bb63",
   "metadata": {},
   "outputs": [],
   "source": [
    "keywords = []\n",
    "for line in open(files_json_paths[0], \"r\"):\n",
    "    keywords.append(json.loads(line))"
   ]
  },
  {
   "cell_type": "code",
   "execution_count": 6,
   "id": "cec7b5b3",
   "metadata": {},
   "outputs": [],
   "source": [
    "keywords_strings = [k[\"keyword\"] for k in keywords]"
   ]
  },
  {
   "cell_type": "code",
   "execution_count": 7,
   "id": "0cbbed5f",
   "metadata": {},
   "outputs": [
    {
     "name": "stderr",
     "output_type": "stream",
     "text": [
      "200000it [00:06, 30294.71it/s]\n"
     ]
    }
   ],
   "source": [
    "# creating the index\n",
    "build_annoy_index_from_strings(\n",
    "    strings=keywords_strings,\n",
    "    vectors_file_path=\"./data/vectors/peru/sample/1.npy\",\n",
    "    index_file_path=\"./data/index/peru/sample/1.ann\",\n",
    "    n_trees=100\n",
    ")"
   ]
  },
  {
   "cell_type": "code",
   "execution_count": 8,
   "id": "1bcfec46",
   "metadata": {},
   "outputs": [],
   "source": [
    "# loading the index\n",
    "a = annoy_index(vector_len=768, index_file_path=\"./data/index/peru/sample/1.ann\")"
   ]
  },
  {
   "cell_type": "code",
   "execution_count": 15,
   "id": "846dd508",
   "metadata": {},
   "outputs": [
    {
     "name": "stdout",
     "output_type": "stream",
     "text": [
      "{'keyword': 'keywords tool', 'location': '2604', 'language': 'es', 'keyword_info': {'search_volume': '720', 'competition': 0.19868053793453438, 'cpc': 0.76684, 'categories': ['10004', '10007', '10276', '11088', '12376', '13152', '13155', '13316', '13418'], 'history': [{'year_month': '201901', 'search_volume': '590'}, {'year_month': '201902', 'search_volume': '480'}, {'year_month': '201903', 'search_volume': '720'}, {'year_month': '201904', 'search_volume': '590'}, {'year_month': '201905', 'search_volume': '720'}, {'year_month': '201906', 'search_volume': '720'}, {'year_month': '201907', 'search_volume': '480'}, {'year_month': '201908', 'search_volume': '590'}, {'year_month': '201909', 'search_volume': '480'}, {'year_month': '201910', 'search_volume': '590'}, {'year_month': '201911', 'search_volume': '480'}, {'year_month': '201912', 'search_volume': '480'}, {'year_month': '202001', 'search_volume': '480'}, {'year_month': '202002', 'search_volume': '480'}, {'year_month': '202003', 'search_volume': '590'}, {'year_month': '202004', 'search_volume': '720'}, {'year_month': '202005', 'search_volume': '1000'}, {'year_month': '202006', 'search_volume': '880'}, {'year_month': '202007', 'search_volume': '880'}, {'year_month': '202008', 'search_volume': '720'}, {'year_month': '202009', 'search_volume': '720'}, {'year_month': '202010', 'search_volume': '720'}, {'year_month': '202011', 'search_volume': '590'}, {'year_month': '202012', 'search_volume': '480'}, {'year_month': '202101', 'search_volume': '480'}, {'year_month': '202102', 'search_volume': '590'}, {'year_month': '202103', 'search_volume': '480'}, {'year_month': '202104', 'search_volume': '590'}, {'year_month': '202105', 'search_volume': '590'}], 'time_update': '2021-06-30 19:47:53.935153 UTC'}, 'impressions_info': {'bid': 999, 'daily_clicks_avg': 0, 'daily_clicks_max': 0, 'daily_clicks_min': 0, 'daily_cost_avg': 0, 'daily_cost_max': 0, 'daily_cost_min': 0, 'daily_impressions_avg': 0, 'daily_impressions_max': 0, 'daily_impressions_min': 0, 'time_update': '2021-07-04 11:50:28.297339 UTC'}, 'bing_keyword_info': {'search_volume': '180', 'history': [{'year_month': '202003', 'search_volume': '28'}, {'year_month': '202004', 'search_volume': '50'}, {'year_month': '202005', 'search_volume': '58'}, {'year_month': '202006', 'search_volume': '1335'}, {'year_month': '202007', 'search_volume': '108'}, {'year_month': '202008', 'search_volume': '81'}, {'year_month': '202009', 'search_volume': '129'}, {'year_month': '202010', 'search_volume': '81'}, {'year_month': '202011', 'search_volume': '116'}, {'year_month': '202012', 'search_volume': '39'}, {'year_month': '202101', 'search_volume': '43'}, {'year_month': '202102', 'search_volume': '53'}], 'time_update': '2021-04-30 19:25:51.136154 UTC'}}\n",
      "\n",
      "\n",
      "{'keyword': 'java keywords', 'location': '2604', 'language': 'es', 'keyword_info': {'search_volume': '10', 'categories': ['10004', '10007', '10019', '10168', '10276', '10885', '11088', '12197', '12211', '12376', '13111', '13152', '13155', '13316', '13418'], 'history': [{'year_month': '201902', 'search_volume': '10'}, {'year_month': '201903', 'search_volume': '10'}, {'year_month': '201904', 'search_volume': '10'}, {'year_month': '201905', 'search_volume': '10'}, {'year_month': '201906', 'search_volume': '10'}, {'year_month': '201907', 'search_volume': '10'}, {'year_month': '201908', 'search_volume': '20'}, {'year_month': '201909', 'search_volume': '10'}, {'year_month': '201910', 'search_volume': '10'}, {'year_month': '201911', 'search_volume': '10'}, {'year_month': '201912', 'search_volume': '10'}, {'year_month': '202001', 'search_volume': '10'}, {'year_month': '202002', 'search_volume': '10'}, {'year_month': '202003', 'search_volume': '10'}, {'year_month': '202004', 'search_volume': '10'}, {'year_month': '202005', 'search_volume': '10'}, {'year_month': '202006', 'search_volume': '10'}, {'year_month': '202007', 'search_volume': '10'}, {'year_month': '202008', 'search_volume': '10'}, {'year_month': '202009', 'search_volume': '10'}, {'year_month': '202010', 'search_volume': '10'}, {'year_month': '202011', 'search_volume': '10'}, {'year_month': '202012', 'search_volume': '10'}, {'year_month': '202101', 'search_volume': '10'}, {'year_month': '202102', 'search_volume': '10'}, {'year_month': '202103', 'search_volume': '10'}, {'year_month': '202104', 'search_volume': '0'}], 'time_update': '2021-05-28 20:05:14.782724 UTC'}, 'impressions_info': {'bid': 999, 'daily_clicks_avg': 0, 'daily_clicks_max': 0, 'daily_clicks_min': 0, 'daily_cost_avg': 0, 'daily_cost_max': 0, 'daily_cost_min': 0, 'daily_impressions_avg': 0, 'daily_impressions_max': 0, 'daily_impressions_min': 0, 'time_update': '2021-07-05 13:53:43.02985 UTC'}, 'bing_keyword_info': {'search_volume': '0', 'history': [{'year_month': '202002'}, {'year_month': '202003'}, {'year_month': '202004'}, {'year_month': '202005'}, {'year_month': '202006'}, {'year_month': '202007'}, {'year_month': '202008'}, {'year_month': '202009'}, {'year_month': '202010'}, {'year_month': '202011'}, {'year_month': '202012'}, {'year_month': '202101'}], 'time_update': '2021-03-13 07:28:54.843972 UTC'}}\n",
      "\n",
      "\n",
      "{'keyword': 'add on keywords everywhere', 'location': '2604', 'language': 'es', 'keyword_info': {'categories': [], 'history': [{'year_month': '201902', 'search_volume': '0'}, {'year_month': '201903', 'search_volume': '0'}, {'year_month': '201904', 'search_volume': '0'}, {'year_month': '201905', 'search_volume': '0'}, {'year_month': '201906', 'search_volume': '0'}, {'year_month': '201907', 'search_volume': '0'}, {'year_month': '201908', 'search_volume': '0'}, {'year_month': '201909', 'search_volume': '0'}, {'year_month': '201910', 'search_volume': '0'}, {'year_month': '201911', 'search_volume': '0'}, {'year_month': '201912', 'search_volume': '0'}, {'year_month': '202001'}, {'year_month': '202002'}, {'year_month': '202003'}, {'year_month': '202004'}, {'year_month': '202005'}, {'year_month': '202006'}, {'year_month': '202007'}, {'year_month': '202008'}, {'year_month': '202009'}, {'year_month': '202010'}, {'year_month': '202011'}, {'year_month': '202012'}, {'year_month': '202101'}, {'year_month': '202102'}, {'year_month': '202103'}, {'year_month': '202104'}, {'year_month': '202105'}], 'time_update': '2021-06-26 17:11:45.210996 UTC'}, 'impressions_info': {'bid': 999, 'daily_clicks_avg': 0, 'daily_clicks_max': 0, 'daily_clicks_min': 0, 'daily_cost_avg': 0, 'daily_cost_max': 0, 'daily_cost_min': 0, 'daily_impressions_avg': 0, 'daily_impressions_max': 0, 'daily_impressions_min': 0, 'time_update': '2021-06-30 08:15:04.02571 UTC'}, 'bing_keyword_info': {'search_volume': '0', 'history': [{'year_month': '202004'}, {'year_month': '202005'}, {'year_month': '202006'}, {'year_month': '202007'}, {'year_month': '202008'}, {'year_month': '202009'}, {'year_month': '202010'}, {'year_month': '202011'}, {'year_month': '202012'}, {'year_month': '202101'}, {'year_month': '202102'}], 'time_update': '2021-05-29 13:42:10.745917 UTC'}}\n",
      "\n",
      "\n",
      "{'keyword': 'llave inglesa características', 'location': '2604', 'language': 'es', 'keyword_info': {'categories': [], 'history': [{'year_month': '202005'}, {'year_month': '202006'}, {'year_month': '202007'}, {'year_month': '202008'}, {'year_month': '202009'}, {'year_month': '202010'}, {'year_month': '202011'}, {'year_month': '202012'}, {'year_month': '202101'}, {'year_month': '202102'}, {'year_month': '202103'}, {'year_month': '202104'}, {'year_month': '202105'}], 'time_update': '2021-06-26 08:38:54.703245 UTC'}, 'impressions_info': {'bid': 999, 'daily_clicks_avg': 0, 'daily_clicks_max': 0, 'daily_clicks_min': 0, 'daily_cost_avg': 0, 'daily_cost_max': 0, 'daily_cost_min': 0, 'daily_impressions_avg': 0, 'daily_impressions_max': 0, 'daily_impressions_min': 0, 'time_update': '2021-06-27 10:50:53.635658 UTC'}, 'bing_keyword_info': {'search_volume': '0', 'history': [{'year_month': '202004'}, {'year_month': '202005'}, {'year_month': '202006'}, {'year_month': '202007'}, {'year_month': '202008'}, {'year_month': '202009', 'search_volume': '5'}, {'year_month': '202010', 'search_volume': '3'}, {'year_month': '202011'}, {'year_month': '202012'}, {'year_month': '202101', 'search_volume': '12'}, {'year_month': '202102'}], 'time_update': '2021-05-24 20:45:54.504202 UTC'}}\n",
      "\n",
      "\n"
     ]
    }
   ],
   "source": [
    "# querying the index\n",
    "query = \"keywords\"\n",
    "ids, scores = get_text_nns(a=a, query=query, threshold=.7)\n",
    "for obj_id in ids:\n",
    "    print(keywords[obj_id])\n",
    "    print(\"\\n\")"
   ]
  }
 ],
 "metadata": {
  "kernelspec": {
   "display_name": "Python 3 (ipykernel)",
   "language": "python",
   "name": "python3"
  },
  "language_info": {
   "codemirror_mode": {
    "name": "ipython",
    "version": 3
   },
   "file_extension": ".py",
   "mimetype": "text/x-python",
   "name": "python",
   "nbconvert_exporter": "python",
   "pygments_lexer": "ipython3",
   "version": "3.9.7"
  }
 },
 "nbformat": 4,
 "nbformat_minor": 5
}
