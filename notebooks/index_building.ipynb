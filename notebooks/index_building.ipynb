{
 "cells": [
  {
   "cell_type": "code",
   "execution_count": 1,
   "id": "082103be",
   "metadata": {},
   "outputs": [
    {
     "name": "stderr",
     "output_type": "stream",
     "text": [
      "/home/mykola/dev/keywords-semantic-search/venv/lib/python3.9/site-packages/huggingface_hub/snapshot_download.py:6: FutureWarning: snapshot_download.py has been made private and will no longer be available from version 0.11. Please use `from huggingface_hub import snapshot_download` to import the only public function in this module. Other members of the file may be changed without a deprecation notice.\n",
      "  warnings.warn(\n",
      "/home/mykola/dev/keywords-semantic-search/venv/lib/python3.9/site-packages/huggingface_hub/file_download.py:560: FutureWarning: `cached_download` is the legacy way to download files from the HF hub, please consider upgrading to `hf_hub_download`\n",
      "  warnings.warn(\n"
     ]
    }
   ],
   "source": [
    "import json\n",
    "import gzip\n",
    "import os\n",
    "os.chdir(\"../\")\n",
    "from index import build_annoy_index_from_strings"
   ]
  },
  {
   "cell_type": "code",
   "execution_count": 2,
   "id": "8618a345",
   "metadata": {},
   "outputs": [],
   "source": [
    "data_dir_json = \"./data/json/peru\""
   ]
  },
  {
   "cell_type": "code",
   "execution_count": 3,
   "id": "da825efb",
   "metadata": {},
   "outputs": [],
   "source": [
    "files_json_paths = [os.path.join(data_dir_json, f) for f in os.listdir(data_dir_json) if f.endswith(\"gz\")]"
   ]
  },
  {
   "cell_type": "code",
   "execution_count": 4,
   "id": "b8b2ffc7",
   "metadata": {},
   "outputs": [
    {
     "data": {
      "text/plain": [
       "['./data/json/peru/2.data (1).json.gz', './data/json/peru/1.data (1).json.gz']"
      ]
     },
     "execution_count": 4,
     "metadata": {},
     "output_type": "execute_result"
    }
   ],
   "source": [
    "files_json_paths"
   ]
  },
  {
   "cell_type": "code",
   "execution_count": null,
   "id": "5a25bb63",
   "metadata": {},
   "outputs": [],
   "source": [
    "with gzip.open(files_json_paths[0], \"r\") as f:\n",
    "    data = json.load(f)"
   ]
  },
  {
   "cell_type": "code",
   "execution_count": null,
   "id": "cec7b5b3",
   "metadata": {},
   "outputs": [],
   "source": [
    "data"
   ]
  }
 ],
 "metadata": {
  "kernelspec": {
   "display_name": "Python 3 (ipykernel)",
   "language": "python",
   "name": "python3"
  },
  "language_info": {
   "codemirror_mode": {
    "name": "ipython",
    "version": 3
   },
   "file_extension": ".py",
   "mimetype": "text/x-python",
   "name": "python",
   "nbconvert_exporter": "python",
   "pygments_lexer": "ipython3",
   "version": "3.9.7"
  }
 },
 "nbformat": 4,
 "nbformat_minor": 5
}
